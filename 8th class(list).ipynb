{
 "cells": [
  {
   "cell_type": "code",
   "execution_count": 1,
   "id": "49d83015",
   "metadata": {},
   "outputs": [],
   "source": [
    "\n"
   ]
  },
  {
   "cell_type": "code",
   "execution_count": 2,
   "id": "23861b3f",
   "metadata": {},
   "outputs": [
    {
     "data": {
      "text/plain": [
       "['Apple', 'Ball']"
      ]
     },
     "execution_count": 2,
     "metadata": {},
     "output_type": "execute_result"
    }
   ],
   "source": [
    "a = []\n",
    "a.append(\"Apple\")\n",
    "a.append(\"Ball\")\n",
    "a"
   ]
  },
  {
   "cell_type": "code",
   "execution_count": 3,
   "id": "72bb7a48",
   "metadata": {},
   "outputs": [
    {
     "data": {
      "text/plain": [
       "['apple', 'ball', 'cat', 'cat', 'dog']"
      ]
     },
     "execution_count": 3,
     "metadata": {},
     "output_type": "execute_result"
    }
   ],
   "source": [
    "a =['apple', 'ball', 'cat', 'dog']\n",
    "a.insert(2,\"cat\")\n",
    "a"
   ]
  },
  {
   "cell_type": "code",
   "execution_count": 4,
   "id": "0ce773cf",
   "metadata": {},
   "outputs": [
    {
     "data": {
      "text/plain": [
       "['apple', 'ball', 'cat', 'dog', 2, 2, 3, 4, 5]"
      ]
     },
     "execution_count": 4,
     "metadata": {},
     "output_type": "execute_result"
    }
   ],
   "source": [
    "a =['apple', 'ball', 'cat', 'dog']\n",
    "a.extend([2, 2, 3, 4, 5])\n",
    "a"
   ]
  },
  {
   "cell_type": "code",
   "execution_count": 5,
   "id": "405ea326",
   "metadata": {},
   "outputs": [
    {
     "name": "stdout",
     "output_type": "stream",
     "text": [
      "apple\n",
      "ball\n",
      "cat\n",
      "dog\n"
     ]
    }
   ],
   "source": [
    "# reading\n",
    "a =['apple', 'ball', 'cat', 'dog']\n",
    "for i in a:\n",
    "    print(i)"
   ]
  },
  {
   "cell_type": "code",
   "execution_count": 6,
   "id": "5e6a43a6",
   "metadata": {},
   "outputs": [
    {
     "name": "stdout",
     "output_type": "stream",
     "text": [
      "Enter n = 2\n",
      "Enter x = 4\n",
      "Enter x = 4\n",
      "[4, 4]\n"
     ]
    }
   ],
   "source": [
    "a =[]\n",
    "n = int (input(\"Enter n = \"))\n",
    "for i in range(n):\n",
    "    x = int(input(\"Enter x = \"))\n",
    "    a.append(x)\n",
    "    \n",
    "print(a)"
   ]
  },
  {
   "cell_type": "code",
   "execution_count": 7,
   "id": "692e0738",
   "metadata": {},
   "outputs": [
    {
     "data": {
      "text/plain": [
       "['Apple', 'Ball', 'cat', 'dog']"
      ]
     },
     "execution_count": 7,
     "metadata": {},
     "output_type": "execute_result"
    }
   ],
   "source": [
    "#update\n",
    "a = ['apple', 'ball', 'cat', 'dog']\n",
    "a[0:2] = ('Apple', 'Ball')\n",
    "a"
   ]
  },
  {
   "cell_type": "code",
   "execution_count": 9,
   "id": "ff9a55fe",
   "metadata": {},
   "outputs": [
    {
     "name": "stdout",
     "output_type": "stream",
     "text": [
      "['ball', 'cat', 'dog']\n"
     ]
    }
   ],
   "source": [
    "#del remove()\n",
    "a =['apple', 'ball', 'cat', 'dog']\n",
    "del a[0]\n",
    "print(a)\n",
    "\n"
   ]
  },
  {
   "cell_type": "code",
   "execution_count": 10,
   "id": "c5810ec9",
   "metadata": {},
   "outputs": [
    {
     "data": {
      "text/plain": [
       "['apple', 'cat', 'dog']"
      ]
     },
     "execution_count": 10,
     "metadata": {},
     "output_type": "execute_result"
    }
   ],
   "source": [
    "a =['apple', 'ball', 'cat', 'dog']\n",
    "a.remove('ball')\n",
    "a"
   ]
  },
  {
   "cell_type": "code",
   "execution_count": 11,
   "id": "35c812f7",
   "metadata": {},
   "outputs": [
    {
     "name": "stdout",
     "output_type": "stream",
     "text": [
      "2\n",
      "['ball', 'cat', 'dog', 'apple']\n"
     ]
    }
   ],
   "source": [
    "a =['apple', 'ball', 'cat', 'dog', 'apple']\n",
    "c = a.count(\"apple\")\n",
    "print(c)\n",
    "if i in range(c):\n",
    "    a.remove('apple')\n",
    "print(a)"
   ]
  },
  {
   "cell_type": "code",
   "execution_count": 12,
   "id": "d29dec30",
   "metadata": {},
   "outputs": [
    {
     "name": "stdout",
     "output_type": "stream",
     "text": [
      "['ball', 'cat', 'dog', 'apple']\n",
      "apple\n"
     ]
    }
   ],
   "source": [
    "a =['apple', 'ball', 'cat', 'dog', 'apple']\n",
    "b = a.pop(0)\n",
    "print(a)\n",
    "print(b)"
   ]
  },
  {
   "cell_type": "code",
   "execution_count": 14,
   "id": "854f917f",
   "metadata": {},
   "outputs": [
    {
     "name": "stdout",
     "output_type": "stream",
     "text": [
      "0\n",
      "4\n"
     ]
    }
   ],
   "source": [
    "a =['apple', 'ball', 'cat', 'dog', 'apple']\n",
    "l = len(a)\n",
    "for i in range(l):\n",
    "    if a[i] == 'apple':\n",
    "        print(i)\n",
    "    "
   ]
  },
  {
   "cell_type": "code",
   "execution_count": 16,
   "id": "59d36a2d",
   "metadata": {},
   "outputs": [
    {
     "ename": "TypeError",
     "evalue": "'builtin_function_or_method' object is not subscriptable",
     "output_type": "error",
     "traceback": [
      "\u001b[1;31m---------------------------------------------------------------------------\u001b[0m",
      "\u001b[1;31mTypeError\u001b[0m                                 Traceback (most recent call last)",
      "\u001b[1;32m~\\AppData\\Local\\Temp/ipykernel_11600/370751127.py\u001b[0m in \u001b[0;36m<module>\u001b[1;34m\u001b[0m\n\u001b[0;32m      1\u001b[0m \u001b[0ma\u001b[0m \u001b[1;33m=\u001b[0m \u001b[1;33m[\u001b[0m\u001b[1;34m'apple'\u001b[0m\u001b[1;33m,\u001b[0m \u001b[1;34m'ball'\u001b[0m\u001b[1;33m,\u001b[0m \u001b[1;34m'cat'\u001b[0m\u001b[1;33m,\u001b[0m \u001b[1;34m'dog'\u001b[0m\u001b[1;33m,\u001b[0m \u001b[1;34m'apple'\u001b[0m\u001b[1;33m]\u001b[0m\u001b[1;33m\u001b[0m\u001b[1;33m\u001b[0m\u001b[0m\n\u001b[1;32m----> 2\u001b[1;33m \u001b[0ma\u001b[0m\u001b[1;33m.\u001b[0m\u001b[0mindex\u001b[0m\u001b[1;33m[\u001b[0m\u001b[1;34m'ball'\u001b[0m\u001b[1;33m]\u001b[0m\u001b[1;33m\u001b[0m\u001b[1;33m\u001b[0m\u001b[0m\n\u001b[0m",
      "\u001b[1;31mTypeError\u001b[0m: 'builtin_function_or_method' object is not subscriptable"
     ]
    }
   ],
   "source": [
    "a = ['apple', 'ball', 'cat', 'dog', 'apple']\n",
    "a.index['ball']"
   ]
  },
  {
   "cell_type": "code",
   "execution_count": 17,
   "id": "88908fe8",
   "metadata": {},
   "outputs": [
    {
     "name": "stdout",
     "output_type": "stream",
     "text": [
      "apple\n"
     ]
    }
   ],
   "source": [
    "a =['apple', 'ball', 'cat', 'dog', 'apple']\n",
    "l = len(a)\n",
    "i = 0\n",
    "while i<1:\n",
    "    print(a[i])\n",
    "    i = i+1"
   ]
  },
  {
   "cell_type": "code",
   "execution_count": 18,
   "id": "225fc5e5",
   "metadata": {},
   "outputs": [
    {
     "name": "stdout",
     "output_type": "stream",
     "text": [
      "<class 'list'>\n",
      "3\n"
     ]
    }
   ],
   "source": [
    "#list inside list\n",
    "a =[[1,2,3], \n",
    "    [4,5,6],\n",
    "    [7,8,9]]\n",
    "print(type(a))\n",
    "print(len(a))"
   ]
  },
  {
   "cell_type": "code",
   "execution_count": 19,
   "id": "57bf7e08",
   "metadata": {
    "scrolled": true
   },
   "outputs": [
    {
     "name": "stdout",
     "output_type": "stream",
     "text": [
      "[[1, 2, 3], [4, 5, 6], [7, 8, 9]]\n",
      "[4, 5, 6]\n"
     ]
    }
   ],
   "source": [
    "print(a)\n",
    "print(a[1])"
   ]
  },
  {
   "cell_type": "code",
   "execution_count": 6,
   "id": "491e2485",
   "metadata": {},
   "outputs": [
    {
     "name": "stdout",
     "output_type": "stream",
     "text": [
      "Enter n = 2\n",
      "Enter name = maya\n",
      "Enter age = 30\n",
      "Enter address = boudha\n",
      "Enter name = rojina\n",
      "Enter age = 20\n",
      "Enter address = kathmandu\n",
      "[['maya', 30, 'boudha'], ['rojina', 20, 'kathmandu']]\n"
     ]
    }
   ],
   "source": [
    "#list inside list(how to create)\n",
    "data = []\n",
    "n = int(input(\"Enter n = \"))\n",
    "for i in range(n):\n",
    "    name = input(\"Enter name = \")\n",
    "    age = int(input(\"Enter age = \"))\n",
    "    address = input(\"Enter address = \")\n",
    "    data.append([name,age,address])\n",
    "print(data)"
   ]
  },
  {
   "cell_type": "code",
   "execution_count": 7,
   "id": "e7867d4d",
   "metadata": {},
   "outputs": [
    {
     "name": "stdout",
     "output_type": "stream",
     "text": [
      "['maya', 30, 'boudha']\n"
     ]
    }
   ],
   "source": [
    "a = [['maya', 30, 'boudha'], ['rojina', 20, 'kathmandu']]\n",
    "print(a[0])\n"
   ]
  },
  {
   "cell_type": "code",
   "execution_count": 9,
   "id": "b2babbc8",
   "metadata": {},
   "outputs": [
    {
     "data": {
      "text/plain": [
       "[['maya', 12, 'nanchang'], ['rojina', 20, 'kathmandu']]"
      ]
     },
     "execution_count": 9,
     "metadata": {},
     "output_type": "execute_result"
    }
   ],
   "source": [
    "#update\n",
    "a = [['maya', 30, 'boudha'], ['rojina', 20, 'kathmandu']]\n",
    "a[0] = ['maya', 12, 'nanchang']\n",
    "a"
   ]
  },
  {
   "cell_type": "code",
   "execution_count": 10,
   "id": "619cc2f7",
   "metadata": {},
   "outputs": [
    {
     "data": {
      "text/plain": [
       "[['Ram', 30, 'boudha'], ['rojina', 20, 'kathmandu']]"
      ]
     },
     "execution_count": 10,
     "metadata": {},
     "output_type": "execute_result"
    }
   ],
   "source": [
    "#update\n",
    "a = [['maya', 30, 'boudha'], ['rojina', 20, 'kathmandu']]\n",
    "a[0][0] = 'Ram'\n",
    "a"
   ]
  },
  {
   "cell_type": "code",
   "execution_count": 4,
   "id": "c1a9d1b0",
   "metadata": {},
   "outputs": [
    {
     "name": "stdout",
     "output_type": "stream",
     "text": [
      "yes\n",
      "2\n"
     ]
    }
   ],
   "source": [
    "#search in list\n",
    "a = [\"ram\", 'shyam', 'ram', 'shyam']\n",
    "if \"ram\" in a:\n",
    "    print(\"yes\")\n",
    "    print(a.count(\"ram\"))"
   ]
  },
  {
   "cell_type": "code",
   "execution_count": 11,
   "id": "1596f3f8",
   "metadata": {},
   "outputs": [
    {
     "data": {
      "text/plain": [
       "[['maya', 30, 9841529180, 'boudha'], ['rojina', 20, 'kathmandu']]"
      ]
     },
     "execution_count": 11,
     "metadata": {},
     "output_type": "execute_result"
    }
   ],
   "source": [
    "#insert\n",
    "a = [['maya', 30, 'boudha'], ['rojina', 20, 'kathmandu']]\n",
    "a[0].insert(2, 9841529180)\n",
    "a"
   ]
  },
  {
   "cell_type": "code",
   "execution_count": 2,
   "id": "a9e84bfd",
   "metadata": {},
   "outputs": [
    {
     "name": "stdout",
     "output_type": "stream",
     "text": [
      "[['maya', 'boudha', 30]]\n",
      "['ram', 'kathamndu', '45']\n"
     ]
    }
   ],
   "source": [
    "#pop mean cut the value and paste in other place(move the value)\n",
    "a = [['ram', 'kathamndu','45'], ['maya', 'boudha', 30]]\n",
    "x = a.pop(0)\n",
    "print(a)\n",
    "print(x)"
   ]
  },
  {
   "cell_type": "code",
   "execution_count": 3,
   "id": "17582a54",
   "metadata": {},
   "outputs": [
    {
     "name": "stdout",
     "output_type": "stream",
     "text": [
      "Enter name = maya\n",
      "['maya', 30, 'boudha']\n",
      "['rojina', 20, 'kathmandu']\n"
     ]
    }
   ],
   "source": [
    "#search list (usefull one )\n",
    "a = [['maya', 30, 'boudha'], ['rojina', 20, 'kathmandu']]\n",
    "name = input(\"Enter name = \")\n",
    "for i in a:\n",
    "        print(i)"
   ]
  },
  {
   "cell_type": "code",
   "execution_count": 2,
   "id": "1b65f003",
   "metadata": {},
   "outputs": [
    {
     "name": "stdout",
     "output_type": "stream",
     "text": [
      "Enter name = maya\n",
      "['maya', 30, 'boudha']\n"
     ]
    }
   ],
   "source": [
    "#search in list inside list\n",
    "a = [['maya', 30, 'boudha'], ['rojina', 20, 'kathmandu']]\n",
    "name = input(\"Enter name = \")\n",
    "for i in a:\n",
    "    if name in i:\n",
    "        print(i)\n"
   ]
  },
  {
   "cell_type": "code",
   "execution_count": 1,
   "id": "bb353879",
   "metadata": {},
   "outputs": [
    {
     "name": "stdout",
     "output_type": "stream",
     "text": [
      "yes\n",
      "1\n"
     ]
    }
   ],
   "source": [
    "#search inside list\n",
    "a = [\"ram\", \"shyam\", \"maya\"]\n",
    "if \"ram\" in a:\n",
    "    print(\"yes\")\n",
    "    print(a.count(\"ram\"))"
   ]
  },
  {
   "cell_type": "code",
   "execution_count": 6,
   "id": "44709bfd",
   "metadata": {},
   "outputs": [
    {
     "name": "stdout",
     "output_type": "stream",
     "text": [
      "Enter name = maya\n",
      "['maya', 30, 'boudha']\n"
     ]
    }
   ],
   "source": [
    "a = [['maya', 30, 'boudha'], ['rojina', 20, 'kathmandu']]\n",
    "name = input(\"Enter name = \")\n",
    "for i in a:\n",
    "    if name == i[0]:\n",
    "        print(i)\n"
   ]
  },
  {
   "cell_type": "code",
   "execution_count": 8,
   "id": "1e74b83b",
   "metadata": {},
   "outputs": [
    {
     "name": "stdout",
     "output_type": "stream",
     "text": [
      "Enter name = s\n",
      "No result found\n"
     ]
    }
   ],
   "source": [
    "c = 0\n",
    "a = [['maya', 30, 'boudha'], ['rojina', 20, 'kathmandu']]\n",
    "name = input(\"Enter name = \")\n",
    "for i in a:\n",
    "    if name == i[0]:\n",
    "        print(i)\n",
    "        c = c+1\n",
    "if c==0:\n",
    "    print(\"No result found\")\n",
    "else:\n",
    "     print(c,\"record found\")"
   ]
  },
  {
   "cell_type": "code",
   "execution_count": null,
   "id": "83ab4473",
   "metadata": {},
   "outputs": [],
   "source": [
    "#tuple(no create, no update, no del remove(), pop())yes read by using loop and index\n",
    "#indexing\n",
    "#ordered\n",
    "#duplicate and multiple\n",
    "#imutable"
   ]
  },
  {
   "cell_type": "code",
   "execution_count": 9,
   "id": "f62c9f29",
   "metadata": {},
   "outputs": [
    {
     "name": "stdout",
     "output_type": "stream",
     "text": [
      "<class 'tuple'>\n"
     ]
    }
   ],
   "source": [
    "a = (1,2,3,4)\n",
    "print(type(a))"
   ]
  },
  {
   "cell_type": "code",
   "execution_count": null,
   "id": "58874547",
   "metadata": {},
   "outputs": [],
   "source": []
  }
 ],
 "metadata": {
  "kernelspec": {
   "display_name": "Python 3 (ipykernel)",
   "language": "python",
   "name": "python3"
  },
  "language_info": {
   "codemirror_mode": {
    "name": "ipython",
    "version": 3
   },
   "file_extension": ".py",
   "mimetype": "text/x-python",
   "name": "python",
   "nbconvert_exporter": "python",
   "pygments_lexer": "ipython3",
   "version": "3.9.7"
  }
 },
 "nbformat": 4,
 "nbformat_minor": 5
}
