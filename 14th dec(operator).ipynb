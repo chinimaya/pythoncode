{
 "cells": [
  {
   "cell_type": "code",
   "execution_count": 1,
   "id": "264d7475",
   "metadata": {},
   "outputs": [],
   "source": [
    "#comparison operator\n",
    "#<> <= > =  == !="
   ]
  },
  {
   "cell_type": "code",
   "execution_count": 2,
   "id": "1d4627ee",
   "metadata": {},
   "outputs": [
    {
     "name": "stdout",
     "output_type": "stream",
     "text": [
      "True\n"
     ]
    }
   ],
   "source": [
    "a = 1\n",
    "b = 20\n",
    "print(a<b)"
   ]
  },
  {
   "cell_type": "code",
   "execution_count": 3,
   "id": "57e39efb",
   "metadata": {},
   "outputs": [
    {
     "name": "stdout",
     "output_type": "stream",
     "text": [
      "True\n"
     ]
    }
   ],
   "source": [
    "a = 9\n",
    "b = 10\n",
    "print(a!=b)"
   ]
  },
  {
   "cell_type": "code",
   "execution_count": 5,
   "id": "e1c47407",
   "metadata": {},
   "outputs": [],
   "source": [
    "#if <condition>:\n",
    "#    <operation>\n",
    "#elif <condition>:\n",
    "#    <operation>\n",
    "#.....\n",
    "#else:\n",
    "#   <operation>"
   ]
  },
  {
   "cell_type": "code",
   "execution_count": 8,
   "id": "706b236a",
   "metadata": {},
   "outputs": [
    {
     "name": "stdout",
     "output_type": "stream",
     "text": [
      "enter a = 12\n",
      "The value is even\n"
     ]
    }
   ],
   "source": [
    "a = int(input(\"enter a = \"))\n",
    "if a%2 ==0:\n",
    "    print(\"The value is even\")\n",
    "else:\n",
    "    print(\"The value is odd\")"
   ]
  },
  {
   "cell_type": "code",
   "execution_count": 9,
   "id": "4d565047",
   "metadata": {},
   "outputs": [
    {
     "name": "stdout",
     "output_type": "stream",
     "text": [
      "enter a = 23\n",
      "enter b = 32\n",
      "32 is greater.\n"
     ]
    }
   ],
   "source": [
    "a = int(input(\"enter a = \"))\n",
    "b = int(input(\"enter b = \"))\n",
    "if a>b:\n",
    "    print(a,\"is greater.\")\n",
    "elif b>a:\n",
    "    print(b, \"is greater.\")\n",
    "else:\n",
    "    print(\"a and b are equal\")"
   ]
  },
  {
   "cell_type": "code",
   "execution_count": 10,
   "id": "7c9cf964",
   "metadata": {},
   "outputs": [
    {
     "name": "stdout",
     "output_type": "stream",
     "text": [
      "enter a = 21\n",
      "enter b = 31\n",
      "enter + - / * +\n",
      "52\n"
     ]
    }
   ],
   "source": [
    "a = int(input(\"enter a = \"))\n",
    "b = int(input(\"enter b = \"))\n",
    "o = input(\"enter + - / * \")\n",
    "if o == '+':\n",
    "    print(a+b)\n",
    "elif o == '-':\n",
    "    print(a-b)\n",
    "elif o == '/':\n",
    "    print(a/b)\n",
    "elif o == '*':\n",
    "    print(a*b)\n",
    "else:\n",
    "    print(\"invalid oprator\")\n",
    "\n"
   ]
  },
  {
   "cell_type": "code",
   "execution_count": 13,
   "id": "6fe8dcc3",
   "metadata": {},
   "outputs": [
    {
     "name": "stdout",
     "output_type": "stream",
     "text": [
      "enter math marks = 80\n",
      "enter nepali marks = 90\n",
      "enter english marks = 99\n",
      "enter science marks = 80\n",
      "The grade of the student =  A\n"
     ]
    }
   ],
   "source": [
    "math= int(input(\"enter math marks = \"))\n",
    "nepali = int(input(\"enter nepali marks = \"))\n",
    "english = int(input(\"enter english marks = \"))\n",
    "science = int(input(\"enter science marks = \"))\n",
    "total = math+nepali+english+science\n",
    "per = total/4\n",
    "if per > 80:\n",
    "    grade = 'A'\n",
    "elif per >=60:\n",
    "    grade = 'B'\n",
    "elif per >=45:\n",
    "    grade = 'C'\n",
    "else:\n",
    "    grade ='F'\n",
    "print(\"The grade of the student is = \", grade)\n"
   ]
  },
  {
   "cell_type": "code",
   "execution_count": null,
   "id": "57d46001",
   "metadata": {},
   "outputs": [],
   "source": [
    "# logical operator\n",
    "#and &\n",
    "#or |\n"
   ]
  },
  {
   "cell_type": "code",
   "execution_count": null,
   "id": "b9877a60",
   "metadata": {},
   "outputs": [],
   "source": []
  },
  {
   "cell_type": "code",
   "execution_count": null,
   "id": "f3ce69ce",
   "metadata": {},
   "outputs": [],
   "source": []
  }
 ],
 "metadata": {
  "kernelspec": {
   "display_name": "Python 3 (ipykernel)",
   "language": "python",
   "name": "python3"
  },
  "language_info": {
   "codemirror_mode": {
    "name": "ipython",
    "version": 3
   },
   "file_extension": ".py",
   "mimetype": "text/x-python",
   "name": "python",
   "nbconvert_exporter": "python",
   "pygments_lexer": "ipython3",
   "version": "3.9.7"
  }
 },
 "nbformat": 4,
 "nbformat_minor": 5
}
