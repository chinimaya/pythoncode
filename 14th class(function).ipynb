{
 "cells": [
  {
   "cell_type": "code",
   "execution_count": 1,
   "id": "7fd5139e",
   "metadata": {},
   "outputs": [],
   "source": [
    "#pre defined function\n",
    "#print()"
   ]
  },
  {
   "cell_type": "code",
   "execution_count": 2,
   "id": "ea2be437",
   "metadata": {},
   "outputs": [],
   "source": [
    "#user defined function\n",
    "# def <function_name>():\n",
    "# <operations>\n",
    "#<function_name>()"
   ]
  },
  {
   "cell_type": "code",
   "execution_count": 3,
   "id": "cf223e8a",
   "metadata": {},
   "outputs": [
    {
     "name": "stdout",
     "output_type": "stream",
     "text": [
      "Hello World\n"
     ]
    }
   ],
   "source": [
    "def hello():\n",
    "    print(\"Hello World\")\n",
    "hello()"
   ]
  },
  {
   "cell_type": "code",
   "execution_count": 5,
   "id": "115aa1c1",
   "metadata": {},
   "outputs": [
    {
     "name": "stdout",
     "output_type": "stream",
     "text": [
      "Enter p = 2500\n",
      "Enter t = 3\n",
      "Enter r = 6\n",
      "450.0\n"
     ]
    }
   ],
   "source": [
    "def cal():\n",
    "    p = int(input(\"Enter p = \"))  #local variable\n",
    "    t = float(input(\"Enter t = \")) #local variable\n",
    "    r = float(input(\"Enter r = \")) #local variable\n",
    "    i = p*t*r/100\n",
    "    print(i)\n",
    "cal()"
   ]
  },
  {
   "cell_type": "code",
   "execution_count": 8,
   "id": "66aa9d20",
   "metadata": {},
   "outputs": [
    {
     "ename": "KeyboardInterrupt",
     "evalue": "Interrupted by user",
     "output_type": "error",
     "traceback": [
      "\u001b[1;31m---------------------------------------------------------------------------\u001b[0m",
      "\u001b[1;31mKeyboardInterrupt\u001b[0m                         Traceback (most recent call last)",
      "\u001b[1;32m~\\AppData\\Local\\Temp/ipykernel_9684/3730070865.py\u001b[0m in \u001b[0;36m<module>\u001b[1;34m\u001b[0m\n\u001b[1;32m----> 1\u001b[1;33m \u001b[0mp\u001b[0m \u001b[1;33m=\u001b[0m \u001b[0mint\u001b[0m\u001b[1;33m(\u001b[0m\u001b[0minput\u001b[0m\u001b[1;33m(\u001b[0m\u001b[1;34m\"Enter p = \"\u001b[0m\u001b[1;33m)\u001b[0m\u001b[1;33m)\u001b[0m  \u001b[1;31m#local variable\u001b[0m\u001b[1;33m\u001b[0m\u001b[1;33m\u001b[0m\u001b[0m\n\u001b[0m\u001b[0;32m      2\u001b[0m \u001b[0mt\u001b[0m \u001b[1;33m=\u001b[0m \u001b[0mfloat\u001b[0m\u001b[1;33m(\u001b[0m\u001b[0minput\u001b[0m\u001b[1;33m(\u001b[0m\u001b[1;34m\"Enter t = \"\u001b[0m\u001b[1;33m)\u001b[0m\u001b[1;33m)\u001b[0m \u001b[1;31m#local variable\u001b[0m\u001b[1;33m\u001b[0m\u001b[1;33m\u001b[0m\u001b[0m\n\u001b[0;32m      3\u001b[0m \u001b[0mr\u001b[0m \u001b[1;33m=\u001b[0m \u001b[0mfloat\u001b[0m\u001b[1;33m(\u001b[0m\u001b[0minput\u001b[0m\u001b[1;33m(\u001b[0m\u001b[1;34m\"Enter r = \"\u001b[0m\u001b[1;33m)\u001b[0m\u001b[1;33m)\u001b[0m \u001b[1;31m#local variable\u001b[0m\u001b[1;33m\u001b[0m\u001b[1;33m\u001b[0m\u001b[0m\n\u001b[0;32m      4\u001b[0m \u001b[1;33m\u001b[0m\u001b[0m\n\u001b[0;32m      5\u001b[0m \u001b[1;32mdef\u001b[0m \u001b[0mcal\u001b[0m\u001b[1;33m(\u001b[0m\u001b[1;33m)\u001b[0m\u001b[1;33m:\u001b[0m\u001b[1;33m\u001b[0m\u001b[1;33m\u001b[0m\u001b[0m\n",
      "\u001b[1;32m~\\anaconda3\\lib\\site-packages\\ipykernel\\kernelbase.py\u001b[0m in \u001b[0;36mraw_input\u001b[1;34m(self, prompt)\u001b[0m\n\u001b[0;32m   1004\u001b[0m                 \u001b[1;34m\"raw_input was called, but this frontend does not support input requests.\"\u001b[0m\u001b[1;33m\u001b[0m\u001b[1;33m\u001b[0m\u001b[0m\n\u001b[0;32m   1005\u001b[0m             )\n\u001b[1;32m-> 1006\u001b[1;33m         return self._input_request(\n\u001b[0m\u001b[0;32m   1007\u001b[0m             \u001b[0mstr\u001b[0m\u001b[1;33m(\u001b[0m\u001b[0mprompt\u001b[0m\u001b[1;33m)\u001b[0m\u001b[1;33m,\u001b[0m\u001b[1;33m\u001b[0m\u001b[1;33m\u001b[0m\u001b[0m\n\u001b[0;32m   1008\u001b[0m             \u001b[0mself\u001b[0m\u001b[1;33m.\u001b[0m\u001b[0m_parent_ident\u001b[0m\u001b[1;33m[\u001b[0m\u001b[1;34m\"shell\"\u001b[0m\u001b[1;33m]\u001b[0m\u001b[1;33m,\u001b[0m\u001b[1;33m\u001b[0m\u001b[1;33m\u001b[0m\u001b[0m\n",
      "\u001b[1;32m~\\anaconda3\\lib\\site-packages\\ipykernel\\kernelbase.py\u001b[0m in \u001b[0;36m_input_request\u001b[1;34m(self, prompt, ident, parent, password)\u001b[0m\n\u001b[0;32m   1049\u001b[0m             \u001b[1;32mexcept\u001b[0m \u001b[0mKeyboardInterrupt\u001b[0m\u001b[1;33m:\u001b[0m\u001b[1;33m\u001b[0m\u001b[1;33m\u001b[0m\u001b[0m\n\u001b[0;32m   1050\u001b[0m                 \u001b[1;31m# re-raise KeyboardInterrupt, to truncate traceback\u001b[0m\u001b[1;33m\u001b[0m\u001b[1;33m\u001b[0m\u001b[0m\n\u001b[1;32m-> 1051\u001b[1;33m                 \u001b[1;32mraise\u001b[0m \u001b[0mKeyboardInterrupt\u001b[0m\u001b[1;33m(\u001b[0m\u001b[1;34m\"Interrupted by user\"\u001b[0m\u001b[1;33m)\u001b[0m \u001b[1;32mfrom\u001b[0m \u001b[1;32mNone\u001b[0m\u001b[1;33m\u001b[0m\u001b[1;33m\u001b[0m\u001b[0m\n\u001b[0m\u001b[0;32m   1052\u001b[0m             \u001b[1;32mexcept\u001b[0m \u001b[0mException\u001b[0m\u001b[1;33m:\u001b[0m\u001b[1;33m\u001b[0m\u001b[1;33m\u001b[0m\u001b[0m\n\u001b[0;32m   1053\u001b[0m                 \u001b[0mself\u001b[0m\u001b[1;33m.\u001b[0m\u001b[0mlog\u001b[0m\u001b[1;33m.\u001b[0m\u001b[0mwarning\u001b[0m\u001b[1;33m(\u001b[0m\u001b[1;34m\"Invalid Message:\"\u001b[0m\u001b[1;33m,\u001b[0m \u001b[0mexc_info\u001b[0m\u001b[1;33m=\u001b[0m\u001b[1;32mTrue\u001b[0m\u001b[1;33m)\u001b[0m\u001b[1;33m\u001b[0m\u001b[1;33m\u001b[0m\u001b[0m\n",
      "\u001b[1;31mKeyboardInterrupt\u001b[0m: Interrupted by user"
     ]
    }
   ],
   "source": [
    "p = int(input(\"Enter p = \"))  #global variable\n",
    "t = float(input(\"Enter t = \")) #global variable\n",
    "r = float(input(\"Enter r = \")) #global variable\n",
    "\n",
    "def cal():\n",
    "    i = p*t*r/100\n",
    "    print(i)\n",
    "    \n",
    "cal()"
   ]
  },
  {
   "cell_type": "code",
   "execution_count": null,
   "id": "d3ac5aee",
   "metadata": {},
   "outputs": [],
   "source": [
    "#argument()\n",
    "#return value\n",
    "\n",
    "#function without argument and no return type\n",
    "#function with argument and no return type\n",
    "#function without argument and return type\n",
    "#function with argument and return type"
   ]
  },
  {
   "cell_type": "code",
   "execution_count": 10,
   "id": "b581adf5",
   "metadata": {},
   "outputs": [
    {
     "name": "stdout",
     "output_type": "stream",
     "text": [
      "Hello world\n"
     ]
    }
   ],
   "source": [
    "#function without argument and no return type\n",
    "def hello(x):\n",
    "    print(x)\n",
    "    \n",
    "hello(\"Hello world\")"
   ]
  },
  {
   "cell_type": "code",
   "execution_count": 30,
   "id": "3e66ac06",
   "metadata": {},
   "outputs": [
    {
     "name": "stdout",
     "output_type": "stream",
     "text": [
      "Enter p = 34\n",
      "Enter t = 43\n",
      "Enter r = 3\n",
      "43.86\n"
     ]
    }
   ],
   "source": [
    "p = int(input(\"Enter p = \"))  #global variable\n",
    "t = float(input(\"Enter t = \")) #global variable\n",
    "r = float(input(\"Enter r = \")) #global variable\n",
    "\n",
    "def cal(p, t, r):\n",
    "    i = p*t*r/100\n",
    "    print(i)\n",
    "    \n",
    "cal(p, t, r)#p, t, r (argument)"
   ]
  },
  {
   "cell_type": "code",
   "execution_count": 14,
   "id": "10003713",
   "metadata": {},
   "outputs": [
    {
     "name": "stdout",
     "output_type": "stream",
     "text": [
      "Enter p = 4000\n",
      "Enter t = 3\n",
      "Enter r = 4\n",
      "480.0\n"
     ]
    }
   ],
   "source": [
    "p = int(input(\"Enter p = \"))  #global variable\n",
    "t = float(input(\"Enter t = \")) #global variable\n",
    "r = float(input(\"Enter r = \")) #global variable\n",
    "\n",
    "def cal(l):\n",
    "    x,y,z = l\n",
    "    i = x*y*z/100\n",
    "    print(i)\n",
    "l=[p, t, r]   \n",
    "cal(l)#p, t, r (argument)"
   ]
  },
  {
   "cell_type": "code",
   "execution_count": 17,
   "id": "ac2f3daa",
   "metadata": {},
   "outputs": [
    {
     "name": "stdout",
     "output_type": "stream",
     "text": [
      "hello world i am maya\n"
     ]
    }
   ],
   "source": [
    "#return type\n",
    "def hello():\n",
    "    return \"hello world\"\n",
    "x = hello()\n",
    "print(x + \" i am maya\")"
   ]
  },
  {
   "cell_type": "code",
   "execution_count": 22,
   "id": "cbe4127b",
   "metadata": {},
   "outputs": [
    {
     "name": "stdout",
     "output_type": "stream",
     "text": [
      "Enter l= 43\n",
      "Enter b= 43\n",
      "Enter h= 3\n",
      "The volume =  5547\n"
     ]
    }
   ],
   "source": [
    "#function without argument and return type\n",
    "def area():\n",
    "    l = int(input(\"Enter l= \"))\n",
    "    b = int(input(\"Enter b= \"))\n",
    "   \n",
    "    a = l*b\n",
    "    \n",
    "    return a\n",
    "ar = area()\n",
    "h = int(input(\"Enter h= \"))\n",
    "v = ar*h \n",
    "print(\"The volume = \", v)\n",
    "        \n",
    "                "
   ]
  },
  {
   "cell_type": "code",
   "execution_count": 35,
   "id": "7cbf98e3",
   "metadata": {},
   "outputs": [
    {
     "name": "stdout",
     "output_type": "stream",
     "text": [
      "Enter l = 23\n",
      "Enter b = 32\n",
      "Enter h = 3\n",
      "(736, 2208)\n",
      "the area =  736\n",
      "the volume =  2208\n"
     ]
    }
   ],
   "source": [
    "#function without argument and return type\n",
    "def area():\n",
    "    l = int(input(\"Enter l = \"))\n",
    "    b = int(input(\"Enter b = \"))\n",
    "    h = int(input(\"Enter h = \"))\n",
    "    a = l*b\n",
    "    v = a*h\n",
    "    return a,v\n",
    "\n",
    "ar = area()\n",
    "print(ar)\n",
    "x,y = ar\n",
    "print(\"the area = \",x)\n",
    "print(\"the volume = \",y)"
   ]
  },
  {
   "cell_type": "code",
   "execution_count": 36,
   "id": "0ab27bc8",
   "metadata": {},
   "outputs": [
    {
     "name": "stdout",
     "output_type": "stream",
     "text": [
      "Enter l= 23\n",
      "Enter b= 3\n",
      "Enter h= 3\n",
      "(69, 207)\n",
      "the area =  69\n",
      "the volume =  207\n"
     ]
    }
   ],
   "source": [
    "#function without argument and return type\n",
    "def area(x,y,z):\n",
    "    \n",
    "    a = x*y\n",
    "    v = a*z\n",
    "    return a,v\n",
    "\n",
    "l = int(input(\"Enter l= \"))\n",
    "b = int(input(\"Enter b= \"))\n",
    "h = int(input(\"Enter h= \"))\n",
    "ar = area(l,b,h)\n",
    "print(ar)\n",
    "i,j = ar\n",
    "print(\"the area = \",i)\n",
    "print(\"the volume = \",j)"
   ]
  },
  {
   "cell_type": "code",
   "execution_count": 37,
   "id": "62f3b541",
   "metadata": {},
   "outputs": [
    {
     "name": "stdout",
     "output_type": "stream",
     "text": [
      "c\n",
      "c++\n",
      "java\n",
      ".net\n",
      "python\n"
     ]
    }
   ],
   "source": [
    "def language(lan = \"python\"):\n",
    "    print(lan)\n",
    "language(\"c\")\n",
    "language(\"c++\")\n",
    "language(\"java\")\n",
    "language(\".net\")\n",
    "language()\n"
   ]
  },
  {
   "cell_type": "code",
   "execution_count": null,
   "id": "da1bfb19",
   "metadata": {},
   "outputs": [],
   "source": []
  }
 ],
 "metadata": {
  "kernelspec": {
   "display_name": "Python 3 (ipykernel)",
   "language": "python",
   "name": "python3"
  },
  "language_info": {
   "codemirror_mode": {
    "name": "ipython",
    "version": 3
   },
   "file_extension": ".py",
   "mimetype": "text/x-python",
   "name": "python",
   "nbconvert_exporter": "python",
   "pygments_lexer": "ipython3",
   "version": "3.9.7"
  }
 },
 "nbformat": 4,
 "nbformat_minor": 5
}
