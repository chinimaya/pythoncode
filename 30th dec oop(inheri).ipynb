{
 "cells": [
  {
   "cell_type": "code",
   "execution_count": 1,
   "id": "016258f1",
   "metadata": {},
   "outputs": [],
   "source": [
    "\n",
    "#class A:\n",
    "#    <methods>\n",
    "\n",
    "#class B(A):\n",
    "#    <methods>\n",
    "#c = B()"
   ]
  },
  {
   "cell_type": "code",
   "execution_count": 1,
   "id": "f6481b53",
   "metadata": {},
   "outputs": [
    {
     "ename": "SyntaxError",
     "evalue": "EOL while scanning string literal (Temp/ipykernel_15348/4025416680.py, line 9)",
     "output_type": "error",
     "traceback": [
      "\u001b[1;36m  File \u001b[1;32m\"C:\\Users\\hp\\AppData\\Local\\Temp/ipykernel_15348/4025416680.py\"\u001b[1;36m, line \u001b[1;32m9\u001b[0m\n\u001b[1;33m    print(f\"Hello i am {self.name}. I am from {self.add}. I am {self.age}\u001b[0m\n\u001b[1;37m                                                                         ^\u001b[0m\n\u001b[1;31mSyntaxError\u001b[0m\u001b[1;31m:\u001b[0m EOL while scanning string literal\n"
     ]
    }
   ],
   "source": [
    "class Data:\n",
    "    def __init__(self):\n",
    "        self.name = input(\"Enter name = \")\n",
    "        self.age = int(input(\"Enter age = \"))\n",
    "        self.add = input(\"enter acddress = \")\n",
    "        \n",
    "class Info(Data):\n",
    "    def info(self):\n",
    "        print(f\"Hello i am {self.name}. I am from {self.add}. I am {self.age}\n",
    "\n",
    "obj = Info()\n",
    "obj.info()\n",
    "print(obj.name, obj.age, obj.add)"
   ]
  },
  {
   "cell_type": "code",
   "execution_count": 3,
   "id": "807f969c",
   "metadata": {},
   "outputs": [
    {
     "name": "stdout",
     "output_type": "stream",
     "text": [
      "Enter name = maya\n",
      "Enter age = 13\n",
      "enter acddress = boudha\n",
      "Hello i am maya. I am from boudha. I am 13\n",
      "maya\n"
     ]
    }
   ],
   "source": [
    "class Data:\n",
    "    def __init__(self):\n",
    "        self.name = input(\"Enter name = \")\n",
    "        self.age = int(input(\"Enter age = \"))\n",
    "        self.add = input(\"enter acddress = \")\n",
    "        \n",
    "class Info(Data):\n",
    "    def info(self):\n",
    "        print(f\"Hello i am {self.name}. I am from {self.add}. I am {self.age}\")\n",
    "\n",
    "obj = Info()\n",
    "obj.info()\n",
    "print(obj.name,)\n",
    "              "
   ]
  },
  {
   "cell_type": "code",
   "execution_count": null,
   "id": "84d09160",
   "metadata": {},
   "outputs": [],
   "source": [
    "class Data:\n",
    "    def __init__(self,name,age,add):\n",
    "        self.name =  name\n",
    "        self.age =  age\n",
    "        self.add = address\n",
    "    def data(self):\n",
    "         print(self.name,self.age,self.add)\n",
    "       \n",
    "        \n",
    "class Info(Data):\n",
    "    def info(self):\n",
    "        print(f\"Hello i am {self.name}. I am from {self.add}. I am {self.age}\")\n",
    "\n",
    "name = input(\"Enter name = \")\n",
    "age = int(input(\"Enter age = \"))\n",
    "add = input(\"enter acddress = \")\n",
    "        \n",
    "obj = Info(name,age,add)\n",
    "obj.info()"
   ]
  },
  {
   "cell_type": "code",
   "execution_count": null,
   "id": "1910d4f5",
   "metadata": {},
   "outputs": [],
   "source": [
    "class Data:\n",
    "    def __init__(self, age, add):\n",
    "        self.name = name\n",
    "        self._age = age\n",
    "        self.__add\n",
    "    def data(self):\n",
    "        print(self.name,self._age, self.__add)\n",
    "class Info(Data):\n",
    "    \n",
    "    def info(self):\n",
    "        print\n",
    "        "
   ]
  }
 ],
 "metadata": {
  "kernelspec": {
   "display_name": "Python 3 (ipykernel)",
   "language": "python",
   "name": "python3"
  },
  "language_info": {
   "codemirror_mode": {
    "name": "ipython",
    "version": 3
   },
   "file_extension": ".py",
   "mimetype": "text/x-python",
   "name": "python",
   "nbconvert_exporter": "python",
   "pygments_lexer": "ipython3",
   "version": "3.9.7"
  }
 },
 "nbformat": 4,
 "nbformat_minor": 5
}
