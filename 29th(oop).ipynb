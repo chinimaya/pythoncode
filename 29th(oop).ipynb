{
 "cells": [
  {
   "cell_type": "code",
   "execution_count": 3,
   "id": "9516586d",
   "metadata": {},
   "outputs": [],
   "source": [
    "#class Python: #(while define class)\n",
    "    #<methods> #define activities\n",
    "    \n",
    "#obj = Python() #object\n"
   ]
  },
  {
   "cell_type": "code",
   "execution_count": 6,
   "id": "ec92018e",
   "metadata": {},
   "outputs": [
    {
     "name": "stdout",
     "output_type": "stream",
     "text": [
      "Hello world\n"
     ]
    }
   ],
   "source": [
    "class Hello:\n",
    "    def hello(self):\n",
    "        print(\"Hello world\")\n",
    "obj = Hello()\n",
    "obj.hello()"
   ]
  },
  {
   "cell_type": "code",
   "execution_count": 7,
   "id": "6b646570",
   "metadata": {},
   "outputs": [
    {
     "name": "stdout",
     "output_type": "stream",
     "text": [
      "Hello world\n"
     ]
    }
   ],
   "source": [
    "class Hello:\n",
    "    @staticmethod\n",
    "    def hello():\n",
    "        print(\"Hello world\")\n",
    "obj = Hello()\n",
    "obj.hello()"
   ]
  },
  {
   "cell_type": "code",
   "execution_count": null,
   "id": "64923fb1",
   "metadata": {},
   "outputs": [],
   "source": [
    "class Area:\n",
    "    def __init__(self,l,b):\n",
    "        self.l = l\n",
    "        self.b = b\n",
    "        \n",
    "    def area(self):\n",
    "        a = self.l*self.b\n",
    "        print(a)\n",
    "class Volume: \n",
    "    def __init__(self,l,b,h):\n",
    "        self.l = l\n",
    "        self.b = b\n",
    "        self.h = h\n",
    "    def volume(self):\n",
    "        v = self.l*self.b*self.h\n",
    "        print(v)\n",
    "        \n",
    "l = int(input(\"Enter l = \"))\n",
    "b = int(input(\"Enter b = \"))\n",
    "h = int(input(\"Enter h = \"))\n",
    "obj1 = Area(l,b)\n",
    "obj2 = Volume(l,b,h)\n",
    "\n",
    "obj1.area()\n",
    "obj2.volume()\n",
    "#print(obj.l, obj.b, obj.h)"
   ]
  },
  {
   "cell_type": "code",
   "execution_count": null,
   "id": "ec7e8aec",
   "metadata": {},
   "outputs": [],
   "source": [
    "a = []\n",
    "a.append(4)"
   ]
  },
  {
   "cell_type": "code",
   "execution_count": null,
   "id": "a553b7bf",
   "metadata": {},
   "outputs": [],
   "source": [
    "class File:\n",
    "    def __init__(self,n,name,price,quantity):\n",
    "        self.n = n\n",
    "        self.name = name\n",
    "        self.price = price\n",
    "        self.quantity = quantity\n",
    "    def billing(self):"
   ]
  }
 ],
 "metadata": {
  "kernelspec": {
   "display_name": "Python 3 (ipykernel)",
   "language": "python",
   "name": "python3"
  },
  "language_info": {
   "codemirror_mode": {
    "name": "ipython",
    "version": 3
   },
   "file_extension": ".py",
   "mimetype": "text/x-python",
   "name": "python",
   "nbconvert_exporter": "python",
   "pygments_lexer": "ipython3",
   "version": "3.9.7"
  }
 },
 "nbformat": 4,
 "nbformat_minor": 5
}
