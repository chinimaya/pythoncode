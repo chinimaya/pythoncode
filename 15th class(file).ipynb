{
 "cells": [
  {
   "cell_type": "code",
   "execution_count": 1,
   "id": "f05e3be3",
   "metadata": {},
   "outputs": [],
   "source": [
    "#file = open('<file_name>', '<mode>')\n",
    "#file.close()\n",
    "#with open('<file_name>','<mode>') as file:\n",
    " #   <operation>"
   ]
  },
  {
   "cell_type": "code",
   "execution_count": 2,
   "id": "6df17507",
   "metadata": {},
   "outputs": [],
   "source": [
    "#mode\n",
    "#r- read\n",
    "#a - append\n",
    "#x - create\n",
    "#w - write"
   ]
  },
  {
   "cell_type": "code",
   "execution_count": 4,
   "id": "37040b2f",
   "metadata": {},
   "outputs": [
    {
     "name": "stdout",
     "output_type": "stream",
     "text": [
      "the file is already there!\n"
     ]
    }
   ],
   "source": [
    "try:\n",
    "    file =open('new_file.txt', 'x')\n",
    "    file.close()\n",
    "except:\n",
    "    print(\"the file is already there!\")"
   ]
  },
  {
   "cell_type": "code",
   "execution_count": 11,
   "id": "4f9163c6",
   "metadata": {},
   "outputs": [
    {
     "name": "stdout",
     "output_type": "stream",
     "text": [
      "1.hi i am maya.\n",
      "2.how are you doing.\n",
      "3.is everything ok.\n",
      "\n"
     ]
    }
   ],
   "source": [
    "try:\n",
    "    file =open('new_file.txt', 'r')\n",
    "    x = file.read()\n",
    "    print(x)\n",
    "    file.close()\n",
    "except:\n",
    "    print(\"the file is already there!\")"
   ]
  },
  {
   "cell_type": "code",
   "execution_count": 12,
   "id": "21e1ec89",
   "metadata": {},
   "outputs": [
    {
     "data": {
      "text/plain": [
       "['1.hi i am maya.', '2.how are you doing.', '3.is everything ok.', '']"
      ]
     },
     "execution_count": 12,
     "metadata": {},
     "output_type": "execute_result"
    }
   ],
   "source": [
    "x.split('\\n')#convert into list"
   ]
  },
  {
   "cell_type": "code",
   "execution_count": 13,
   "id": "7d0adf16",
   "metadata": {},
   "outputs": [],
   "source": [
    "#write(it will override the value)\n",
    "#with open('data.txt', 'w') as file:\n",
    " #   file.write('hello world, i am python!')"
   ]
  },
  {
   "cell_type": "code",
   "execution_count": 15,
   "id": "1468c0a6",
   "metadata": {},
   "outputs": [],
   "source": [
    "#with open('data.txt', 'a') as file:\n",
    "   # file.write('hello world, i am python')"
   ]
  },
  {
   "cell_type": "code",
   "execution_count": 1,
   "id": "0c3fc0f3",
   "metadata": {},
   "outputs": [
    {
     "name": "stdout",
     "output_type": "stream",
     "text": [
      "Enter n = 2\n",
      "Enter product name = apple\n",
      "Enter price = 50\n",
      "Enter quantity = 2\n",
      "Enter product name = banana\n",
      "Enter price = 60\n",
      "Enter quantity = 2\n",
      "apple 50 2 100\n",
      "banana 60 2 120\n",
      "\n"
     ]
    }
   ],
   "source": [
    "info = str()\n",
    "n = int(input(\"Enter n = \"))\n",
    "for i in range(n):\n",
    "    name =input(\"Enter product name = \")\n",
    "    price =int(input(\"Enter price = \"))\n",
    "    quantity =int(input(\"Enter quantity = \"))\n",
    "    total = price*quantity\n",
    "    info = info +f\"{name} {price} {quantity} {total}\\n\"\n",
    "print(info)\n",
    "\n",
    "with open('data.txt', 'a') as file:\n",
    "    file.write(info)\n",
    "    "
   ]
  },
  {
   "cell_type": "code",
   "execution_count": 6,
   "id": "92dc3867",
   "metadata": {},
   "outputs": [
    {
     "name": "stdout",
     "output_type": "stream",
     "text": [
      "hello world, i am pythonhello world, i am python!hello world, i am pythonapple 30 2 60\n",
      "banana 40 3 120\n",
      "apple 50 2 100\n",
      "banana 60 2 120\n",
      "\n"
     ]
    }
   ],
   "source": [
    "with open('data.txt', 'r') as file:\n",
    "    x = file.read()\n",
    "    print(x)"
   ]
  },
  {
   "cell_type": "code",
   "execution_count": 7,
   "id": "53c5bc15",
   "metadata": {},
   "outputs": [
    {
     "data": {
      "text/plain": [
       "['hello world, i am pythonhello world, i am python!hello world, i am pythonapple 30 2 60',\n",
       " 'banana 40 3 120',\n",
       " 'apple 50 2 100',\n",
       " 'banana 60 2 120']"
      ]
     },
     "execution_count": 7,
     "metadata": {},
     "output_type": "execute_result"
    }
   ],
   "source": [
    "data = x.split('\\n')[0:-1]\n",
    "data"
   ]
  },
  {
   "cell_type": "code",
   "execution_count": 8,
   "id": "c784d2eb",
   "metadata": {},
   "outputs": [
    {
     "data": {
      "text/plain": [
       "[['hello',\n",
       "  'world,',\n",
       "  'i',\n",
       "  'am',\n",
       "  'pythonhello',\n",
       "  'world,',\n",
       "  'i',\n",
       "  'am',\n",
       "  'python!hello',\n",
       "  'world,',\n",
       "  'i',\n",
       "  'am',\n",
       "  'pythonapple',\n",
       "  '30',\n",
       "  '2',\n",
       "  '60'],\n",
       " ['banana', '40', '3', '120'],\n",
       " ['apple', '50', '2', '100'],\n",
       " ['banana', '60', '2', '120']]"
      ]
     },
     "execution_count": 8,
     "metadata": {},
     "output_type": "execute_result"
    }
   ],
   "source": [
    "new_data = []\n",
    "for i in data:\n",
    "    split_data = i.split()\n",
    "    new_data.append(split_data)\n",
    "new_data"
   ]
  },
  {
   "cell_type": "code",
   "execution_count": 14,
   "id": "42bb9a2d",
   "metadata": {},
   "outputs": [
    {
     "ename": "ValueError",
     "evalue": "invalid literal for int() with base 10: 'am'",
     "output_type": "error",
     "traceback": [
      "\u001b[1;31m---------------------------------------------------------------------------\u001b[0m",
      "\u001b[1;31mValueError\u001b[0m                                Traceback (most recent call last)",
      "\u001b[1;32m~\\AppData\\Local\\Temp/ipykernel_16988/1708052919.py\u001b[0m in \u001b[0;36m<module>\u001b[1;34m\u001b[0m\n\u001b[0;32m      1\u001b[0m \u001b[0mall_total\u001b[0m \u001b[1;33m=\u001b[0m \u001b[1;36m0\u001b[0m\u001b[1;33m\u001b[0m\u001b[1;33m\u001b[0m\u001b[0m\n\u001b[0;32m      2\u001b[0m \u001b[1;32mfor\u001b[0m \u001b[0mcal\u001b[0m \u001b[1;32min\u001b[0m \u001b[0mnew_data\u001b[0m\u001b[1;33m:\u001b[0m\u001b[1;33m\u001b[0m\u001b[1;33m\u001b[0m\u001b[0m\n\u001b[1;32m----> 3\u001b[1;33m     \u001b[0mall_total\u001b[0m \u001b[1;33m=\u001b[0m \u001b[0mall_total\u001b[0m \u001b[1;33m+\u001b[0m \u001b[0mint\u001b[0m\u001b[1;33m(\u001b[0m\u001b[0mcal\u001b[0m\u001b[1;33m[\u001b[0m\u001b[1;36m3\u001b[0m\u001b[1;33m]\u001b[0m\u001b[1;33m)\u001b[0m\u001b[1;33m\u001b[0m\u001b[1;33m\u001b[0m\u001b[0m\n\u001b[0m\u001b[0;32m      4\u001b[0m \u001b[0mall_total\u001b[0m\u001b[1;33m\u001b[0m\u001b[1;33m\u001b[0m\u001b[0m\n",
      "\u001b[1;31mValueError\u001b[0m: invalid literal for int() with base 10: 'am'"
     ]
    }
   ],
   "source": [
    "all_total = 0\n",
    "for cal in new_data:\n",
    "    all_total = all_total + int(cal[3])\n",
    "all_total"
   ]
  },
  {
   "cell_type": "code",
   "execution_count": null,
   "id": "e0fb634c",
   "metadata": {},
   "outputs": [],
   "source": []
  }
 ],
 "metadata": {
  "kernelspec": {
   "display_name": "Python 3 (ipykernel)",
   "language": "python",
   "name": "python3"
  },
  "language_info": {
   "codemirror_mode": {
    "name": "ipython",
    "version": 3
   },
   "file_extension": ".py",
   "mimetype": "text/x-python",
   "name": "python",
   "nbconvert_exporter": "python",
   "pygments_lexer": "ipython3",
   "version": "3.9.7"
  }
 },
 "nbformat": 4,
 "nbformat_minor": 5
}
