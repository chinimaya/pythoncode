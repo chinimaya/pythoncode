{
 "cells": [
  {
   "cell_type": "code",
   "execution_count": 11,
   "id": "1193e66e",
   "metadata": {},
   "outputs": [
    {
     "name": "stdout",
     "output_type": "stream",
     "text": [
      "Enter the number = 2\n",
      "Enter items name = apple\n",
      "Enter Quantity = 2\n",
      "Enter price = 30\n",
      "Enter items name = banana\n",
      "Enter Quantity = 3\n",
      "Enter price = 20\n",
      "[['apple', 2, 30, 60], ['banana', 3, 20, 60]]\n"
     ]
    }
   ],
   "source": [
    "# WAP to create a billing system using list inside list and do CRUD.\n",
    "\n",
    "data =[]\n",
    "n = int(input(\"Enter the number = \"))\n",
    "for i in range(n):\n",
    "    Items= input(\"Enter items name = \")\n",
    "    quantity = int(input(\"Enter Quantity = \"))\n",
    "    price = int(input(\"Enter price = \"))\n",
    "    total = int(quantity*price)\n",
    "    data.append([Items,quantity,price,total])\n",
    "print(data)"
   ]
  },
  {
   "cell_type": "code",
   "execution_count": 10,
   "id": "8f9b12c2",
   "metadata": {},
   "outputs": [],
   "source": [
    "# WAP to create a matrix by taking row and colum taking as input."
   ]
  },
  {
   "cell_type": "code",
   "execution_count": 8,
   "id": "3497d78c",
   "metadata": {},
   "outputs": [],
   "source": [
    "# WAP to detect prime and composite using for else or while else."
   ]
  },
  {
   "cell_type": "code",
   "execution_count": null,
   "id": "fedbc7ae",
   "metadata": {},
   "outputs": [],
   "source": []
  }
 ],
 "metadata": {
  "kernelspec": {
   "display_name": "Python 3 (ipykernel)",
   "language": "python",
   "name": "python3"
  },
  "language_info": {
   "codemirror_mode": {
    "name": "ipython",
    "version": 3
   },
   "file_extension": ".py",
   "mimetype": "text/x-python",
   "name": "python",
   "nbconvert_exporter": "python",
   "pygments_lexer": "ipython3",
   "version": "3.9.7"
  }
 },
 "nbformat": 4,
 "nbformat_minor": 5
}
